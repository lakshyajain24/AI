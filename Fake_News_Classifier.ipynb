{
  "nbformat": 4,
  "nbformat_minor": 0,
  "metadata": {
    "colab": {
      "name": "Fake_News_Classifier.ipynb",
      "provenance": [],
      "collapsed_sections": [],
      "mount_file_id": "1QdrF9wcHV77I0_UZZxGO_lUL6yCIxA-B",
      "authorship_tag": "ABX9TyOJjWFH0Ix60RFdegaQH+FC",
      "include_colab_link": true
    },
    "kernelspec": {
      "name": "python3",
      "display_name": "Python 3"
    }
  },
  "cells": [
    {
      "cell_type": "markdown",
      "metadata": {
        "id": "view-in-github",
        "colab_type": "text"
      },
      "source": [
        "<a href=\"https://colab.research.google.com/github/lakshyajain24/AI/blob/main/Fake_News_Classifier.ipynb\" target=\"_parent\"><img src=\"https://colab.research.google.com/assets/colab-badge.svg\" alt=\"Open In Colab\"/></a>"
      ]
    },
    {
      "cell_type": "code",
      "metadata": {
        "id": "NmnDk5pKwbie"
      },
      "source": [
        "import numpy as np\r\n",
        "import pandas as pd\r\n",
        "import itertools\r\n",
        "from sklearn.model_selection import train_test_split\r\n",
        "from sklearn.feature_extraction.text import TfidfVectorizer\r\n",
        "from sklearn.linear_model import LogisticRegression\r\n",
        "from sklearn.metrics import accuracy_score, confusion_matrix"
      ],
      "execution_count": null,
      "outputs": []
    },
    {
      "cell_type": "code",
      "metadata": {
        "id": "tg7ZRZPQwfB6"
      },
      "source": [
        "#Read the data\r\n",
        "df_ML=pd.read_csv('/content/drive/MyDrive/Project Database/train.csv')"
      ],
      "execution_count": null,
      "outputs": []
    },
    {
      "cell_type": "code",
      "metadata": {
        "id": "IwisEJmjxKXr"
      },
      "source": [
        "df_ML.head()\r\n",
        "df_ML=df_ML.dropna()\r\n",
        "df_ML.reset_index(inplace=True)"
      ],
      "execution_count": null,
      "outputs": []
    },
    {
      "cell_type": "code",
      "metadata": {
        "id": "nE51tfMWwj1i"
      },
      "source": [
        "#DataFlair - Split the dataset\r\n",
        "x_train,x_test,y_train,y_test=train_test_split(df_ML['text'], df_ML['label'], test_size=0.1, random_state=0)"
      ],
      "execution_count": null,
      "outputs": []
    },
    {
      "cell_type": "code",
      "metadata": {
        "id": "cCFZ7DQOwmLM"
      },
      "source": [
        "#DataFlair - Initialize a TfidfVectorizer\r\n",
        "tfidf_vectorizer=TfidfVectorizer(stop_words='english', max_df=0.7)\r\n",
        "\r\n",
        "#DataFlair - Fit and transform train set, transform test set\r\n",
        "tfidf_train=tfidf_vectorizer.fit_transform(x_train) \r\n",
        "tfidf_test=tfidf_vectorizer.transform(x_test)"
      ],
      "execution_count": null,
      "outputs": []
    },
    {
      "cell_type": "code",
      "metadata": {
        "colab": {
          "base_uri": "https://localhost:8080/"
        },
        "id": "fZqho2jcwoaq",
        "outputId": "4693ad9d-78f5-4a9c-9f6a-3a4e1bf9fc60"
      },
      "source": [
        "#DataFlair - Initialize a PassiveAggressiveClassifier\r\n",
        "pac=LogisticRegression(max_iter=50)\r\n",
        "pac.fit(tfidf_train,y_train)\r\n",
        " \r\n",
        "#DataFlair - Predict on the test set and calculate accuracy\r\n",
        "y_pred=pac.predict(tfidf_test)\r\n",
        "score=accuracy_score(y_test,y_pred)\r\n",
        "print(f'Accuracy: {round(score*100,2)}%')"
      ],
      "execution_count": null,
      "outputs": [
        {
          "output_type": "stream",
          "text": [
            "Accuracy: 94.97%\n"
          ],
          "name": "stdout"
        }
      ]
    },
    {
      "cell_type": "code",
      "metadata": {
        "id": "S80EMorl6AKF"
      },
      "source": [
        "import joblib\r\n",
        "with open(\"/content/drive/MyDrive/Project Database/Pac_Joblib.pkl\", \"wb\") as file1:\r\n",
        "  joblib.dump(pac, file1)\r\n",
        "with open(\"/content/drive/MyDrive/Project Database/Vector_Joblib.pkl\", \"wb\") as file2:\r\n",
        "  joblib.dump(tfidf_vectorizer, file2)"
      ],
      "execution_count": null,
      "outputs": []
    },
    {
      "cell_type": "code",
      "metadata": {
        "id": "3bYtRtyQ66JT"
      },
      "source": [
        "import joblib\r\n",
        "with open(\"/content/drive/MyDrive/Project Database/Pac_Joblib.pkl\", \"rb\") as file1:\r\n",
        "  joblib_model_pac = joblib.load(file1)\r\n",
        "with open(\"/content/drive/MyDrive/Project Database/Vector_Joblib.pkl\", \"rb\") as file2:\r\n",
        "  joblib_model_vect = joblib.load(file2)"
      ],
      "execution_count": null,
      "outputs": []
    },
    {
      "cell_type": "code",
      "metadata": {
        "colab": {
          "base_uri": "https://localhost:8080/"
        },
        "id": "d-nPqtjc7VKy",
        "outputId": "6d6c1713-48f2-4047-833a-d068d21d5f35"
      },
      "source": [
        "joblib_model.predict(tfidf_test)"
      ],
      "execution_count": null,
      "outputs": [
        {
          "output_type": "execute_result",
          "data": {
            "text/plain": [
              "array([0, 0, 1, ..., 0, 0, 1])"
            ]
          },
          "metadata": {
            "tags": []
          },
          "execution_count": 24
        }
      ]
    },
    {
      "cell_type": "code",
      "metadata": {
        "colab": {
          "base_uri": "https://localhost:8080/"
        },
        "id": "o-VxUIJKPB4e",
        "outputId": "fa8aee7a-0ced-4555-bd6d-a7681f10c77e"
      },
      "source": [
        "print(type(x_train))"
      ],
      "execution_count": null,
      "outputs": [
        {
          "output_type": "stream",
          "text": [
            "<class 'pandas.core.series.Series'>\n"
          ],
          "name": "stdout"
        }
      ]
    },
    {
      "cell_type": "code",
      "metadata": {
        "colab": {
          "base_uri": "https://localhost:8080/"
        },
        "id": "GdKUZM2RP0UB",
        "outputId": "4a7675de-bafe-403d-bfa8-eba13f8862ab"
      },
      "source": [
        "data =[\"Click Here To Learn More About Alexandra's Personalized Essences Psychic Protection Click Here for More Information on Psychic Protection! Implant Removal Series Click here to listen to the IRP and SA/DNA Process \"]\r\n",
        "df = pd.DataFrame(data, columns = ['Name'])\r\n",
        "\r\n",
        "print(df[\"Name\"])"
      ],
      "execution_count": null,
      "outputs": [
        {
          "output_type": "stream",
          "text": [
            "0    Click Here To Learn More About Alexandra's Per...\n",
            "Name: Name, dtype: object\n"
          ],
          "name": "stdout"
        }
      ]
    },
    {
      "cell_type": "code",
      "metadata": {
        "colab": {
          "base_uri": "https://localhost:8080/"
        },
        "id": "BE5SX6ksRXuG",
        "outputId": "5580dd92-cc1f-4e24-d995-50b45d1af1c7"
      },
      "source": [
        "tfidf_test= joblib_model_vect.transform(df[\"Name\"])\r\n",
        "joblib_model_pac.predict(tfidf_test)"
      ],
      "execution_count": null,
      "outputs": [
        {
          "output_type": "execute_result",
          "data": {
            "text/plain": [
              "array([1])"
            ]
          },
          "metadata": {
            "tags": []
          },
          "execution_count": 25
        }
      ]
    }
  ]
}